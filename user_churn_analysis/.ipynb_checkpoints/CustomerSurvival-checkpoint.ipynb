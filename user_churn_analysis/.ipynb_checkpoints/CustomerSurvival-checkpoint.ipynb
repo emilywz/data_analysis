{
 "cells": [
  {
   "cell_type": "markdown",
   "metadata": {},
   "source": [
    "## 客户流失预测分析"
   ]
  },
  {
   "cell_type": "code",
   "execution_count": 1,
   "metadata": {},
   "outputs": [],
   "source": [
    "# 导入模块\n",
    "import numpy as np\n",
    "import pandas as pd\n",
    "import matplotlib.pyplot as plt\n",
    "\n",
    "%matplotlib inline\n",
    "\n",
    "plt.style.use('ggplot')\n",
    "\n",
    "import seaborn as sns\n",
    "\n",
    "sns.set_style('darkgrid')\n",
    "sns.set_palette('muted')"
   ]
  },
  {
   "cell_type": "code",
   "execution_count": 2,
   "metadata": {},
   "outputs": [
    {
     "data": {
      "text/html": [
       "<div>\n",
       "<style scoped>\n",
       "    .dataframe tbody tr th:only-of-type {\n",
       "        vertical-align: middle;\n",
       "    }\n",
       "\n",
       "    .dataframe tbody tr th {\n",
       "        vertical-align: top;\n",
       "    }\n",
       "\n",
       "    .dataframe thead th {\n",
       "        text-align: right;\n",
       "    }\n",
       "</style>\n",
       "<table border=\"1\" class=\"dataframe\">\n",
       "  <thead>\n",
       "    <tr style=\"text-align: right;\">\n",
       "      <th></th>\n",
       "      <th>ID</th>\n",
       "      <th>套餐金额</th>\n",
       "      <th>额外通话时长</th>\n",
       "      <th>额外流量</th>\n",
       "      <th>改变行为</th>\n",
       "      <th>服务合约</th>\n",
       "      <th>关联购买</th>\n",
       "      <th>集团用户</th>\n",
       "      <th>使用月数</th>\n",
       "      <th>流失用户</th>\n",
       "    </tr>\n",
       "  </thead>\n",
       "  <tbody>\n",
       "    <tr>\n",
       "      <th>0</th>\n",
       "      <td>1</td>\n",
       "      <td>1</td>\n",
       "      <td>792.833333</td>\n",
       "      <td>-10.450067</td>\n",
       "      <td>0</td>\n",
       "      <td>0</td>\n",
       "      <td>0</td>\n",
       "      <td>0</td>\n",
       "      <td>25</td>\n",
       "      <td>0</td>\n",
       "    </tr>\n",
       "    <tr>\n",
       "      <th>1</th>\n",
       "      <td>2</td>\n",
       "      <td>1</td>\n",
       "      <td>121.666667</td>\n",
       "      <td>-21.141117</td>\n",
       "      <td>0</td>\n",
       "      <td>0</td>\n",
       "      <td>0</td>\n",
       "      <td>0</td>\n",
       "      <td>25</td>\n",
       "      <td>0</td>\n",
       "    </tr>\n",
       "    <tr>\n",
       "      <th>2</th>\n",
       "      <td>3</td>\n",
       "      <td>1</td>\n",
       "      <td>-30.000000</td>\n",
       "      <td>-25.655273</td>\n",
       "      <td>0</td>\n",
       "      <td>0</td>\n",
       "      <td>0</td>\n",
       "      <td>0</td>\n",
       "      <td>2</td>\n",
       "      <td>1</td>\n",
       "    </tr>\n",
       "    <tr>\n",
       "      <th>3</th>\n",
       "      <td>4</td>\n",
       "      <td>1</td>\n",
       "      <td>241.500000</td>\n",
       "      <td>-288.341254</td>\n",
       "      <td>0</td>\n",
       "      <td>1</td>\n",
       "      <td>0</td>\n",
       "      <td>1</td>\n",
       "      <td>25</td>\n",
       "      <td>0</td>\n",
       "    </tr>\n",
       "    <tr>\n",
       "      <th>4</th>\n",
       "      <td>5</td>\n",
       "      <td>1</td>\n",
       "      <td>1629.666667</td>\n",
       "      <td>-23.655505</td>\n",
       "      <td>0</td>\n",
       "      <td>0</td>\n",
       "      <td>0</td>\n",
       "      <td>1</td>\n",
       "      <td>25</td>\n",
       "      <td>0</td>\n",
       "    </tr>\n",
       "  </tbody>\n",
       "</table>\n",
       "</div>"
      ],
      "text/plain": [
       "   ID  套餐金额       额外通话时长        额外流量  改变行为  服务合约  关联购买  集团用户  使用月数  流失用户\n",
       "0   1     1   792.833333  -10.450067     0     0     0     0    25     0\n",
       "1   2     1   121.666667  -21.141117     0     0     0     0    25     0\n",
       "2   3     1   -30.000000  -25.655273     0     0     0     0     2     1\n",
       "3   4     1   241.500000 -288.341254     0     1     0     1    25     0\n",
       "4   5     1  1629.666667  -23.655505     0     0     0     1    25     0"
      ]
     },
     "execution_count": 2,
     "metadata": {},
     "output_type": "execute_result"
    }
   ],
   "source": [
    "# 导入csv文件\n",
    "df = pd.read_excel('CustomerSurvival.xlsx',\n",
    "                   encoding='utf-8')\n",
    "\n",
    "df.head(5)"
   ]
  },
  {
   "cell_type": "code",
   "execution_count": 3,
   "metadata": {},
   "outputs": [
    {
     "name": "stdout",
     "output_type": "stream",
     "text": [
      "<class 'pandas.core.frame.DataFrame'>\n",
      "RangeIndex: 4975 entries, 0 to 4974\n",
      "Data columns (total 10 columns):\n",
      " #   Column  Non-Null Count  Dtype  \n",
      "---  ------  --------------  -----  \n",
      " 0   ID      4975 non-null   int64  \n",
      " 1   套餐金额    4975 non-null   int64  \n",
      " 2   额外通话时长  4975 non-null   float64\n",
      " 3   额外流量    4975 non-null   float64\n",
      " 4   改变行为    4975 non-null   int64  \n",
      " 5   服务合约    4975 non-null   int64  \n",
      " 6   关联购买    4975 non-null   int64  \n",
      " 7   集团用户    4975 non-null   int64  \n",
      " 8   使用月数    4975 non-null   int64  \n",
      " 9   流失用户    4975 non-null   int64  \n",
      "dtypes: float64(2), int64(8)\n",
      "memory usage: 388.8 KB\n"
     ]
    }
   ],
   "source": [
    "df.info()"
   ]
  },
  {
   "cell_type": "code",
   "execution_count": 4,
   "metadata": {},
   "outputs": [
    {
     "name": "stdout",
     "output_type": "stream",
     "text": [
      "<class 'pandas.core.frame.DataFrame'>\n",
      "RangeIndex: 4975 entries, 0 to 4974\n",
      "Data columns (total 10 columns):\n",
      " #   Column         Non-Null Count  Dtype  \n",
      "---  ------         --------------  -----  \n",
      " 0   id             4975 non-null   int64  \n",
      " 1   pack_price     4975 non-null   int64  \n",
      " 2   extra_time     4975 non-null   float64\n",
      " 3   extra_flow     4975 non-null   float64\n",
      " 4   pack_change    4975 non-null   int64  \n",
      " 5   contract       4975 non-null   int64  \n",
      " 6   link_purchase  4975 non-null   int64  \n",
      " 7   group_user     4975 non-null   int64  \n",
      " 8   use_month      4975 non-null   int64  \n",
      " 9   loss           4975 non-null   int64  \n",
      "dtypes: float64(2), int64(8)\n",
      "memory usage: 388.8 KB\n"
     ]
    }
   ],
   "source": [
    "df.columns = ['id','pack_price','extra_time','extra_flow','pack_change',\n",
    "             'contract','link_purchase','group_user','use_month','loss']\n",
    "\n",
    "df.info()"
   ]
  },
  {
   "cell_type": "markdown",
   "metadata": {},
   "source": [
    "pack_price：1=96元以下，2=96到225元，3=225元以上<br>\n",
    "extra_time：分钟<br>\n",
    "extra_flow：兆<br>\n",
    "pack_change：1=是，0=否<br>\n",
    "contract：1=是，0=否<br>\n",
    "link_puchase:1=同时办理一项其他业务，2=同时办理两项，0=没有办理<br>\n",
    "group_user：1=是，0=否<br>\n",
    "loss:1=是，0=否<br>"
   ]
  },
  {
   "cell_type": "markdown",
   "metadata": {},
   "source": [
    "### 数据分析"
   ]
  },
  {
   "cell_type": "code",
   "execution_count": 5,
   "metadata": {},
   "outputs": [
    {
     "data": {
      "text/html": [
       "<div>\n",
       "<style scoped>\n",
       "    .dataframe tbody tr th:only-of-type {\n",
       "        vertical-align: middle;\n",
       "    }\n",
       "\n",
       "    .dataframe tbody tr th {\n",
       "        vertical-align: top;\n",
       "    }\n",
       "\n",
       "    .dataframe thead th {\n",
       "        text-align: right;\n",
       "    }\n",
       "</style>\n",
       "<table border=\"1\" class=\"dataframe\">\n",
       "  <thead>\n",
       "    <tr style=\"text-align: right;\">\n",
       "      <th></th>\n",
       "      <th>id</th>\n",
       "      <th>pack_price</th>\n",
       "      <th>extra_time</th>\n",
       "      <th>extra_flow</th>\n",
       "      <th>pack_change</th>\n",
       "      <th>contract</th>\n",
       "      <th>link_purchase</th>\n",
       "      <th>group_user</th>\n",
       "      <th>use_month</th>\n",
       "      <th>loss</th>\n",
       "    </tr>\n",
       "  </thead>\n",
       "  <tbody>\n",
       "    <tr>\n",
       "      <th>count</th>\n",
       "      <td>4975.000000</td>\n",
       "      <td>4975.000000</td>\n",
       "      <td>4975.000000</td>\n",
       "      <td>4975.000000</td>\n",
       "      <td>4975.000000</td>\n",
       "      <td>4975.000000</td>\n",
       "      <td>4975.000000</td>\n",
       "      <td>4975.000000</td>\n",
       "      <td>4975.000000</td>\n",
       "      <td>4975.000000</td>\n",
       "    </tr>\n",
       "    <tr>\n",
       "      <th>mean</th>\n",
       "      <td>2488.000000</td>\n",
       "      <td>1.057688</td>\n",
       "      <td>258.520030</td>\n",
       "      <td>-71.580403</td>\n",
       "      <td>0.021307</td>\n",
       "      <td>0.245226</td>\n",
       "      <td>0.047437</td>\n",
       "      <td>0.227337</td>\n",
       "      <td>14.774271</td>\n",
       "      <td>0.782714</td>\n",
       "    </tr>\n",
       "    <tr>\n",
       "      <th>std</th>\n",
       "      <td>1436.303125</td>\n",
       "      <td>0.258527</td>\n",
       "      <td>723.057190</td>\n",
       "      <td>275.557448</td>\n",
       "      <td>0.144419</td>\n",
       "      <td>0.430264</td>\n",
       "      <td>0.278143</td>\n",
       "      <td>0.419154</td>\n",
       "      <td>6.534273</td>\n",
       "      <td>0.412441</td>\n",
       "    </tr>\n",
       "    <tr>\n",
       "      <th>min</th>\n",
       "      <td>1.000000</td>\n",
       "      <td>1.000000</td>\n",
       "      <td>-2828.333333</td>\n",
       "      <td>-2189.875986</td>\n",
       "      <td>0.000000</td>\n",
       "      <td>0.000000</td>\n",
       "      <td>0.000000</td>\n",
       "      <td>0.000000</td>\n",
       "      <td>1.000000</td>\n",
       "      <td>0.000000</td>\n",
       "    </tr>\n",
       "    <tr>\n",
       "      <th>25%</th>\n",
       "      <td>1244.500000</td>\n",
       "      <td>1.000000</td>\n",
       "      <td>-126.666667</td>\n",
       "      <td>-74.289824</td>\n",
       "      <td>0.000000</td>\n",
       "      <td>0.000000</td>\n",
       "      <td>0.000000</td>\n",
       "      <td>0.000000</td>\n",
       "      <td>13.000000</td>\n",
       "      <td>1.000000</td>\n",
       "    </tr>\n",
       "    <tr>\n",
       "      <th>50%</th>\n",
       "      <td>2488.000000</td>\n",
       "      <td>1.000000</td>\n",
       "      <td>13.500000</td>\n",
       "      <td>-59.652734</td>\n",
       "      <td>0.000000</td>\n",
       "      <td>0.000000</td>\n",
       "      <td>0.000000</td>\n",
       "      <td>0.000000</td>\n",
       "      <td>13.000000</td>\n",
       "      <td>1.000000</td>\n",
       "    </tr>\n",
       "    <tr>\n",
       "      <th>75%</th>\n",
       "      <td>3731.500000</td>\n",
       "      <td>1.000000</td>\n",
       "      <td>338.658333</td>\n",
       "      <td>-25.795045</td>\n",
       "      <td>0.000000</td>\n",
       "      <td>0.000000</td>\n",
       "      <td>0.000000</td>\n",
       "      <td>0.000000</td>\n",
       "      <td>19.000000</td>\n",
       "      <td>1.000000</td>\n",
       "    </tr>\n",
       "    <tr>\n",
       "      <th>max</th>\n",
       "      <td>4975.000000</td>\n",
       "      <td>3.000000</td>\n",
       "      <td>4314.000000</td>\n",
       "      <td>2568.704293</td>\n",
       "      <td>1.000000</td>\n",
       "      <td>1.000000</td>\n",
       "      <td>2.000000</td>\n",
       "      <td>1.000000</td>\n",
       "      <td>25.000000</td>\n",
       "      <td>1.000000</td>\n",
       "    </tr>\n",
       "  </tbody>\n",
       "</table>\n",
       "</div>"
      ],
      "text/plain": [
       "                id   pack_price   extra_time   extra_flow  pack_change  \\\n",
       "count  4975.000000  4975.000000  4975.000000  4975.000000  4975.000000   \n",
       "mean   2488.000000     1.057688   258.520030   -71.580403     0.021307   \n",
       "std    1436.303125     0.258527   723.057190   275.557448     0.144419   \n",
       "min       1.000000     1.000000 -2828.333333 -2189.875986     0.000000   \n",
       "25%    1244.500000     1.000000  -126.666667   -74.289824     0.000000   \n",
       "50%    2488.000000     1.000000    13.500000   -59.652734     0.000000   \n",
       "75%    3731.500000     1.000000   338.658333   -25.795045     0.000000   \n",
       "max    4975.000000     3.000000  4314.000000  2568.704293     1.000000   \n",
       "\n",
       "          contract  link_purchase   group_user    use_month         loss  \n",
       "count  4975.000000    4975.000000  4975.000000  4975.000000  4975.000000  \n",
       "mean      0.245226       0.047437     0.227337    14.774271     0.782714  \n",
       "std       0.430264       0.278143     0.419154     6.534273     0.412441  \n",
       "min       0.000000       0.000000     0.000000     1.000000     0.000000  \n",
       "25%       0.000000       0.000000     0.000000    13.000000     1.000000  \n",
       "50%       0.000000       0.000000     0.000000    13.000000     1.000000  \n",
       "75%       0.000000       0.000000     0.000000    19.000000     1.000000  \n",
       "max       1.000000       2.000000     1.000000    25.000000     1.000000  "
      ]
     },
     "execution_count": 5,
     "metadata": {},
     "output_type": "execute_result"
    }
   ],
   "source": [
    "df.describe()"
   ]
  },
  {
   "cell_type": "markdown",
   "metadata": {},
   "source": [
    "### 变量分布"
   ]
  },
  {
   "cell_type": "code",
   "execution_count": 6,
   "metadata": {},
   "outputs": [
    {
     "data": {
      "image/png": "[encoded data removed]",
      "text/plain": [
       "<Figure size 720x360 with 2 Axes>"
      ]
     },
     "metadata": {
      "needs_background": "light"
     },
     "output_type": "display_data"
    }
   ],
   "source": [
    "# extra_time和extra_flow的数据分布：\n",
    "plt.figure(figsize = (10,5))\n",
    "\n",
    "plt.subplot(1,2,1)\n",
    "df.extra_time.hist(bins = 30,label='count',color='green')\n",
    "plt.xlabel('extra_time')\n",
    "\n",
    "plt.subplot(1,2,2)\n",
    "df.extra_flow.hist(bins = 30,label='count',color='orange')\n",
    "plt.xlabel('extra_flow')\n",
    "\n",
    "plt.show()"
   ]
  },
  {
   "cell_type": "markdown",
   "metadata": {},
   "source": [
    "extra_time呈现的是右偏分布<br>\n",
    "extra_flow近似服从正态分布"
   ]
  },
  {
   "cell_type": "code",
   "execution_count": 7,
   "metadata": {},
   "outputs": [
    {
     "data": {
      "text/plain": [
       "<matplotlib.axes._subplots.AxesSubplot at 0x1eaf2fae400>"
      ]
     },
     "execution_count": 7,
     "metadata": {},
     "output_type": "execute_result"
    },
    {
     "data": {
      "image/png": "[encoded data removed]",
      "text/plain": [
       "<Figure size 720x432 with 6 Axes>"
      ]
     },
     "metadata": {
      "needs_background": "light"
     },
     "output_type": "display_data"
    }
   ],
   "source": [
    "# 分类型变量分布：展示每个类别的数量\n",
    "#1、套餐金额   \n",
    "#2、是否曾经改变过套餐金额    \n",
    "#3、用户是否与联通签订过服务合约  \n",
    "#4、用户在使用联通移动服务过程中是否还同时办理其他业务   \n",
    "#5、用户办理的是否是集团业务   \n",
    "#6、用户流失情况\n",
    "\n",
    "fig,axes = plt.subplots(nrows = 2,ncols = 3, figsize = (10,6))\n",
    "\n",
    "sns.countplot(x = 'pack_price',data = df,ax=axes[0,0])\n",
    "sns.countplot(x = 'pack_change',data = df,ax=axes[0,1])\n",
    "sns.countplot(x = 'contract',data = df,ax=axes[0,2])\n",
    "sns.countplot(x = 'link_purchase',data = df,ax=axes[1,0])\n",
    "sns.countplot(x = 'group_user',data = df,ax=axes[1,1])\n",
    "sns.countplot(x = 'loss',data = df,ax=axes[1,2])"
   ]
  },
  {
   "cell_type": "markdown",
   "metadata": {},
   "source": [
    "pack_price, pack_change, link_purchas的类型分布不均衡<br>\n",
    "link_purchas,办理过套餐外业务的用户数量极少，导致样本缺乏足够的代表性，可能会对模型的最终结果产生影响。"
   ]
  },
  {
   "cell_type": "markdown",
   "metadata": {},
   "source": [
    "###  自变量与因变量之间的关系："
   ]
  },
  {
   "cell_type": "code",
   "execution_count": 8,
   "metadata": {},
   "outputs": [
    {
     "data": {
      "text/plain": [
       "<matplotlib.axes._subplots.AxesSubplot at 0x1eaf2e9c780>"
      ]
     },
     "execution_count": 8,
     "metadata": {},
     "output_type": "execute_result"
    },
    {
     "data": {
      "text/plain": [
       "<Figure size 720x432 with 0 Axes>"
      ]
     },
     "metadata": {},
     "output_type": "display_data"
    },
    {
     "data": {
      "image/png": "[encoded data removed]",
      "text/plain": [
       "<Figure size 432x288 with 1 Axes>"
      ]
     },
     "metadata": {
      "needs_background": "light"
     },
     "output_type": "display_data"
    },
    {
     "data": {
      "image/png": "[encoded data removed]",
      "text/plain": [
       "<Figure size 432x288 with 1 Axes>"
      ]
     },
     "metadata": {
      "needs_background": "light"
     },
     "output_type": "display_data"
    }
   ],
   "source": [
    "# extra_time和extra_flow绘制散点图观察：\n",
    "plt.figure(figsize = (10,6))\n",
    "\n",
    "df.plot.scatter(x='extra_time',y='loss')\n",
    "df.plot.scatter(x='extra_flow',y='loss')"
   ]
  },
  {
   "cell_type": "markdown",
   "metadata": {},
   "source": [
    "额外通话时长、额外流量与是否流失并无关系<br>\n",
    "为查看相关性，将extra_time和extra_flow进行分箱区域化处理，再绘制条形图："
   ]
  },
  {
   "cell_type": "code",
   "execution_count": 9,
   "metadata": {},
   "outputs": [
    {
     "name": "stdout",
     "output_type": "stream",
     "text": [
      "<class 'pandas.core.groupby.generic.SeriesGroupBy'>\n"
     ]
    },
    {
     "data": {
      "text/html": [
       "<div>\n",
       "<style scoped>\n",
       "    .dataframe tbody tr th:only-of-type {\n",
       "        vertical-align: middle;\n",
       "    }\n",
       "\n",
       "    .dataframe tbody tr th {\n",
       "        vertical-align: top;\n",
       "    }\n",
       "\n",
       "    .dataframe thead th {\n",
       "        text-align: right;\n",
       "    }\n",
       "</style>\n",
       "<table border=\"1\" class=\"dataframe\">\n",
       "  <thead>\n",
       "    <tr style=\"text-align: right;\">\n",
       "      <th></th>\n",
       "      <th>time_label</th>\n",
       "      <th>id</th>\n",
       "      <th>amount_cumsum</th>\n",
       "    </tr>\n",
       "  </thead>\n",
       "  <tbody>\n",
       "    <tr>\n",
       "      <th>0</th>\n",
       "      <td>(-3000, -2000]</td>\n",
       "      <td>3</td>\n",
       "      <td>3</td>\n",
       "    </tr>\n",
       "    <tr>\n",
       "      <th>1</th>\n",
       "      <td>(-2000, -500]</td>\n",
       "      <td>15</td>\n",
       "      <td>18</td>\n",
       "    </tr>\n",
       "    <tr>\n",
       "      <th>2</th>\n",
       "      <td>(3000, 5000]</td>\n",
       "      <td>79</td>\n",
       "      <td>97</td>\n",
       "    </tr>\n",
       "    <tr>\n",
       "      <th>3</th>\n",
       "      <td>(2000, 3000]</td>\n",
       "      <td>129</td>\n",
       "      <td>226</td>\n",
       "    </tr>\n",
       "    <tr>\n",
       "      <th>4</th>\n",
       "      <td>(500, 2000]</td>\n",
       "      <td>755</td>\n",
       "      <td>981</td>\n",
       "    </tr>\n",
       "    <tr>\n",
       "      <th>5</th>\n",
       "      <td>(0, 500]</td>\n",
       "      <td>1634</td>\n",
       "      <td>2615</td>\n",
       "    </tr>\n",
       "    <tr>\n",
       "      <th>6</th>\n",
       "      <td>(-500, 0]</td>\n",
       "      <td>2360</td>\n",
       "      <td>4975</td>\n",
       "    </tr>\n",
       "  </tbody>\n",
       "</table>\n",
       "</div>"
      ],
      "text/plain": [
       "       time_label    id  amount_cumsum\n",
       "0  (-3000, -2000]     3              3\n",
       "1   (-2000, -500]    15             18\n",
       "2    (3000, 5000]    79             97\n",
       "3    (2000, 3000]   129            226\n",
       "4     (500, 2000]   755            981\n",
       "5        (0, 500]  1634           2615\n",
       "6       (-500, 0]  2360           4975"
      ]
     },
     "execution_count": 9,
     "metadata": {},
     "output_type": "execute_result"
    }
   ],
   "source": [
    "# 将连续性数据离散化\n",
    "bin1 = [-3000,-2000,-500,0,500,2000,3000,5000]\n",
    "df['time_label'] = pd.cut(df.extra_time,bins = bin1)\n",
    "\n",
    "#统计区间数据\n",
    "time_amount = df.groupby('time_label').id.count().sort_values().reset_index()\n",
    "print(type(df.groupby('time_label').id))\n",
    "\n",
    "time_amount['amount_cumsum'] = time_amount.id.cumsum()\n",
    "time_amount"
   ]
  },
  {
   "cell_type": "code",
   "execution_count": 10,
   "metadata": {},
   "outputs": [
    {
     "data": {
      "text/plain": [
       "<matplotlib.axes._subplots.AxesSubplot at 0x1eaf0dd27f0>"
      ]
     },
     "execution_count": 10,
     "metadata": {},
     "output_type": "execute_result"
    },
    {
     "data": {
      "image/png": "[encoded data removed]",
      "text/plain": [
       "<Figure size 432x288 with 1 Axes>"
      ]
     },
     "metadata": {
      "needs_background": "light"
     },
     "output_type": "display_data"
    }
   ],
   "source": [
    "sns.countplot(y = 'time_label',\n",
    "              hue = 'loss',\n",
    "              data =df)"
   ]
  },
  {
   "cell_type": "markdown",
   "metadata": {},
   "source": [
    "extra_time累加统计，【-500,500】这个区间的用户占了80%"
   ]
  },
  {
   "cell_type": "code",
   "execution_count": 11,
   "metadata": {},
   "outputs": [
    {
     "name": "stdout",
     "output_type": "stream",
     "text": [
      "<class 'pandas.core.groupby.generic.SeriesGroupBy'>\n"
     ]
    },
    {
     "data": {
      "text/html": [
       "<div>\n",
       "<style scoped>\n",
       "    .dataframe tbody tr th:only-of-type {\n",
       "        vertical-align: middle;\n",
       "    }\n",
       "\n",
       "    .dataframe tbody tr th {\n",
       "        vertical-align: top;\n",
       "    }\n",
       "\n",
       "    .dataframe thead th {\n",
       "        text-align: right;\n",
       "    }\n",
       "</style>\n",
       "<table border=\"1\" class=\"dataframe\">\n",
       "  <thead>\n",
       "    <tr style=\"text-align: right;\">\n",
       "      <th></th>\n",
       "      <th>flow_label</th>\n",
       "      <th>id</th>\n",
       "      <th>amount_cumsum</th>\n",
       "    </tr>\n",
       "  </thead>\n",
       "  <tbody>\n",
       "    <tr>\n",
       "      <th>0</th>\n",
       "      <td>(2000, 3000]</td>\n",
       "      <td>1</td>\n",
       "      <td>1</td>\n",
       "    </tr>\n",
       "    <tr>\n",
       "      <th>1</th>\n",
       "      <td>(-3000, -2000]</td>\n",
       "      <td>3</td>\n",
       "      <td>4</td>\n",
       "    </tr>\n",
       "    <tr>\n",
       "      <th>2</th>\n",
       "      <td>(500, 2000]</td>\n",
       "      <td>79</td>\n",
       "      <td>83</td>\n",
       "    </tr>\n",
       "    <tr>\n",
       "      <th>3</th>\n",
       "      <td>(-2000, -500]</td>\n",
       "      <td>157</td>\n",
       "      <td>240</td>\n",
       "    </tr>\n",
       "    <tr>\n",
       "      <th>4</th>\n",
       "      <td>(0, 500]</td>\n",
       "      <td>827</td>\n",
       "      <td>1067</td>\n",
       "    </tr>\n",
       "    <tr>\n",
       "      <th>5</th>\n",
       "      <td>(-500, 0]</td>\n",
       "      <td>3908</td>\n",
       "      <td>4975</td>\n",
       "    </tr>\n",
       "  </tbody>\n",
       "</table>\n",
       "</div>"
      ],
      "text/plain": [
       "       flow_label    id  amount_cumsum\n",
       "0    (2000, 3000]     1              1\n",
       "1  (-3000, -2000]     3              4\n",
       "2     (500, 2000]    79             83\n",
       "3   (-2000, -500]   157            240\n",
       "4        (0, 500]   827           1067\n",
       "5       (-500, 0]  3908           4975"
      ]
     },
     "execution_count": 11,
     "metadata": {},
     "output_type": "execute_result"
    }
   ],
   "source": [
    "bin2 = [-3000,-2000,-500,0,500,2000,3000]\n",
    "df['flow_label'] = pd.cut(df.extra_flow,bins = bin2)\n",
    "flow_amount = df.groupby('flow_label').id.count().sort_values().reset_index()\n",
    "print(type(df.groupby('flow_label').id))\n",
    "\n",
    "flow_amount['amount_cumsum'] = flow_amount.id.cumsum()\n",
    "flow_amount"
   ]
  },
  {
   "cell_type": "code",
   "execution_count": 12,
   "metadata": {
    "scrolled": true
   },
   "outputs": [
    {
     "data": {
      "text/plain": [
       "<matplotlib.axes._subplots.AxesSubplot at 0x1eaf0df83c8>"
      ]
     },
     "execution_count": 12,
     "metadata": {},
     "output_type": "execute_result"
    },
    {
     "data": {
      "image/png": "[encoded data removed]",
      "text/plain": [
       "<Figure size 432x288 with 1 Axes>"
      ]
     },
     "metadata": {
      "needs_background": "light"
     },
     "output_type": "display_data"
    }
   ],
   "source": [
    "sns.countplot(y = 'flow_label', hue = 'loss', data =df)"
   ]
  },
  {
   "cell_type": "markdown",
   "metadata": {},
   "source": [
    "extra_flow统计：【-500,500】占了95%，（-500,0】的用户占80%，只有小部分用户每月会超额使用流量。\n",
    "\n",
    "\n",
    "用户使用的通话时间和流量越多，流失概率越低，超额使用的用户在用户分类中属于高价值用户，用户粘性高<br>"
   ]
  },
  {
   "cell_type": "code",
   "execution_count": 13,
   "metadata": {},
   "outputs": [
    {
     "data": {
      "text/plain": [
       "<matplotlib.axes._subplots.AxesSubplot at 0x1eaf0c9da20>"
      ]
     },
     "execution_count": 13,
     "metadata": {},
     "output_type": "execute_result"
    },
    {
     "data": {
      "image/png": "[encoded data removed]",
      "text/plain": [
       "<Figure size 864x576 with 6 Axes>"
      ]
     },
     "metadata": {
      "needs_background": "light"
     },
     "output_type": "display_data"
    }
   ],
   "source": [
    "fig,axes = plt.subplots(nrows = 2,ncols = 3, figsize = (12,8))\n",
    "\n",
    "sns.countplot(x = 'pack_price',hue = 'loss',data =df,ax = axes[0][0])\n",
    "sns.countplot(x = 'pack_change',hue = 'loss',data =df,ax = axes[0][1])\n",
    "sns.countplot(x = 'contract',hue = 'loss',data =df,ax = axes[0][2])\n",
    "sns.countplot(x = 'link_purchase',hue = 'loss',data =df,ax = axes[1][0])\n",
    "sns.countplot(x = 'group_user',hue = 'loss',data =df,ax = axes[1][1])"
   ]
  },
  {
   "cell_type": "markdown",
   "metadata": {},
   "source": [
    "结论分析：<br>\n",
    "1、套餐金额越大，用户越不易流失，套餐金额大的用户忠诚度也高<br>\n",
    "2、改过套餐的用户流失概率变小<br>\n",
    "3、签订过合约的流失比例较小，用户比较稳定<br>\n",
    "4、办理过其它套餐业务的用户因样本量太少<br>\n",
    "5、集团用户流失率比个人用户低很多<br>"
   ]
  },
  {
   "cell_type": "code",
   "execution_count": 14,
   "metadata": {},
   "outputs": [
    {
     "name": "stdout",
     "output_type": "stream",
     "text": [
      "<class 'pandas.core.frame.DataFrame'>\n"
     ]
    },
    {
     "data": {
      "text/plain": [
       "<matplotlib.axes._subplots.AxesSubplot at 0x1eaf0aa7390>"
      ]
     },
     "execution_count": 14,
     "metadata": {},
     "output_type": "execute_result"
    },
    {
     "data": {
      "image/png": "[encoded data removed]",
      "text/plain": [
       "<Figure size 720x504 with 2 Axes>"
      ]
     },
     "metadata": {
      "needs_background": "light"
     },
     "output_type": "display_data"
    }
   ],
   "source": [
    "#变量之间的相关矩阵\n",
    "internal_chars = ['pack_price','extra_time','extra_flow',\n",
    "                 'pack_change','contract',\n",
    "                  'link_purchase','group_user','loss']\n",
    "corrmat = df[internal_chars].corr()\n",
    "print(type(corrmat))\n",
    "\n",
    "f, ax = plt.subplots(figsize=(10, 7))\n",
    "plt.xticks(rotation='45')\n",
    "sns.heatmap(corrmat, square=False, linewidths=1, annot=True)"
   ]
  },
  {
   "cell_type": "markdown",
   "metadata": {},
   "source": [
    "各自变量间的相关性程度很低"
   ]
  },
  {
   "cell_type": "markdown",
   "metadata": {},
   "source": [
    "### 数据建模"
   ]
  },
  {
   "cell_type": "markdown",
   "metadata": {},
   "source": [
    "筛选特征喂入模型：<br>\n",
    "extra_time，extra_flow，pack_price,  pack_change, link_purchase, contract以及group_use<br>\n",
    "\n",
    "extra_time，extra_flow连续型变量作数据转换，变成二分类变量，所有特征都是统一的度量。<br>\n",
    "\n",
    "---预测的目标值：'loss'<br>"
   ]
  },
  {
   "cell_type": "code",
   "execution_count": 15,
   "metadata": {},
   "outputs": [
    {
     "data": {
      "text/html": [
       "<div>\n",
       "<style scoped>\n",
       "    .dataframe tbody tr th:only-of-type {\n",
       "        vertical-align: middle;\n",
       "    }\n",
       "\n",
       "    .dataframe tbody tr th {\n",
       "        vertical-align: top;\n",
       "    }\n",
       "\n",
       "    .dataframe thead th {\n",
       "        text-align: right;\n",
       "    }\n",
       "</style>\n",
       "<table border=\"1\" class=\"dataframe\">\n",
       "  <thead>\n",
       "    <tr style=\"text-align: right;\">\n",
       "      <th></th>\n",
       "      <th>id</th>\n",
       "      <th>pack_price</th>\n",
       "      <th>extra_time</th>\n",
       "      <th>extra_flow</th>\n",
       "      <th>pack_change</th>\n",
       "      <th>contract</th>\n",
       "      <th>link_purchase</th>\n",
       "      <th>group_user</th>\n",
       "      <th>use_month</th>\n",
       "      <th>loss</th>\n",
       "      <th>time_label</th>\n",
       "      <th>flow_label</th>\n",
       "      <th>time_tranf</th>\n",
       "      <th>flow_tranf</th>\n",
       "    </tr>\n",
       "  </thead>\n",
       "  <tbody>\n",
       "    <tr>\n",
       "      <th>0</th>\n",
       "      <td>1</td>\n",
       "      <td>1</td>\n",
       "      <td>792.833333</td>\n",
       "      <td>-10.450067</td>\n",
       "      <td>0</td>\n",
       "      <td>0</td>\n",
       "      <td>0</td>\n",
       "      <td>0</td>\n",
       "      <td>25</td>\n",
       "      <td>0</td>\n",
       "      <td>(500, 2000]</td>\n",
       "      <td>(-500, 0]</td>\n",
       "      <td>1</td>\n",
       "      <td>0</td>\n",
       "    </tr>\n",
       "    <tr>\n",
       "      <th>1</th>\n",
       "      <td>2</td>\n",
       "      <td>1</td>\n",
       "      <td>121.666667</td>\n",
       "      <td>-21.141117</td>\n",
       "      <td>0</td>\n",
       "      <td>0</td>\n",
       "      <td>0</td>\n",
       "      <td>0</td>\n",
       "      <td>25</td>\n",
       "      <td>0</td>\n",
       "      <td>(0, 500]</td>\n",
       "      <td>(-500, 0]</td>\n",
       "      <td>1</td>\n",
       "      <td>0</td>\n",
       "    </tr>\n",
       "    <tr>\n",
       "      <th>2</th>\n",
       "      <td>3</td>\n",
       "      <td>1</td>\n",
       "      <td>-30.000000</td>\n",
       "      <td>-25.655273</td>\n",
       "      <td>0</td>\n",
       "      <td>0</td>\n",
       "      <td>0</td>\n",
       "      <td>0</td>\n",
       "      <td>2</td>\n",
       "      <td>1</td>\n",
       "      <td>(-500, 0]</td>\n",
       "      <td>(-500, 0]</td>\n",
       "      <td>0</td>\n",
       "      <td>0</td>\n",
       "    </tr>\n",
       "    <tr>\n",
       "      <th>3</th>\n",
       "      <td>4</td>\n",
       "      <td>1</td>\n",
       "      <td>241.500000</td>\n",
       "      <td>-288.341254</td>\n",
       "      <td>0</td>\n",
       "      <td>1</td>\n",
       "      <td>0</td>\n",
       "      <td>1</td>\n",
       "      <td>25</td>\n",
       "      <td>0</td>\n",
       "      <td>(0, 500]</td>\n",
       "      <td>(-500, 0]</td>\n",
       "      <td>1</td>\n",
       "      <td>0</td>\n",
       "    </tr>\n",
       "    <tr>\n",
       "      <th>4</th>\n",
       "      <td>5</td>\n",
       "      <td>1</td>\n",
       "      <td>1629.666667</td>\n",
       "      <td>-23.655505</td>\n",
       "      <td>0</td>\n",
       "      <td>0</td>\n",
       "      <td>0</td>\n",
       "      <td>1</td>\n",
       "      <td>25</td>\n",
       "      <td>0</td>\n",
       "      <td>(500, 2000]</td>\n",
       "      <td>(-500, 0]</td>\n",
       "      <td>1</td>\n",
       "      <td>0</td>\n",
       "    </tr>\n",
       "    <tr>\n",
       "      <th>5</th>\n",
       "      <td>6</td>\n",
       "      <td>1</td>\n",
       "      <td>182.000000</td>\n",
       "      <td>-115.863584</td>\n",
       "      <td>0</td>\n",
       "      <td>1</td>\n",
       "      <td>0</td>\n",
       "      <td>1</td>\n",
       "      <td>25</td>\n",
       "      <td>0</td>\n",
       "      <td>(0, 500]</td>\n",
       "      <td>(-500, 0]</td>\n",
       "      <td>1</td>\n",
       "      <td>0</td>\n",
       "    </tr>\n",
       "    <tr>\n",
       "      <th>6</th>\n",
       "      <td>7</td>\n",
       "      <td>1</td>\n",
       "      <td>196.333333</td>\n",
       "      <td>221.294207</td>\n",
       "      <td>0</td>\n",
       "      <td>1</td>\n",
       "      <td>0</td>\n",
       "      <td>1</td>\n",
       "      <td>23</td>\n",
       "      <td>0</td>\n",
       "      <td>(0, 500]</td>\n",
       "      <td>(0, 500]</td>\n",
       "      <td>1</td>\n",
       "      <td>1</td>\n",
       "    </tr>\n",
       "    <tr>\n",
       "      <th>7</th>\n",
       "      <td>8</td>\n",
       "      <td>1</td>\n",
       "      <td>539.500000</td>\n",
       "      <td>81.160600</td>\n",
       "      <td>0</td>\n",
       "      <td>1</td>\n",
       "      <td>0</td>\n",
       "      <td>0</td>\n",
       "      <td>25</td>\n",
       "      <td>0</td>\n",
       "      <td>(500, 2000]</td>\n",
       "      <td>(0, 500]</td>\n",
       "      <td>1</td>\n",
       "      <td>1</td>\n",
       "    </tr>\n",
       "    <tr>\n",
       "      <th>8</th>\n",
       "      <td>9</td>\n",
       "      <td>1</td>\n",
       "      <td>1037.166667</td>\n",
       "      <td>8.344393</td>\n",
       "      <td>0</td>\n",
       "      <td>1</td>\n",
       "      <td>0</td>\n",
       "      <td>1</td>\n",
       "      <td>25</td>\n",
       "      <td>0</td>\n",
       "      <td>(500, 2000]</td>\n",
       "      <td>(0, 500]</td>\n",
       "      <td>1</td>\n",
       "      <td>1</td>\n",
       "    </tr>\n",
       "    <tr>\n",
       "      <th>9</th>\n",
       "      <td>10</td>\n",
       "      <td>2</td>\n",
       "      <td>289.000000</td>\n",
       "      <td>-131.784518</td>\n",
       "      <td>0</td>\n",
       "      <td>0</td>\n",
       "      <td>0</td>\n",
       "      <td>1</td>\n",
       "      <td>25</td>\n",
       "      <td>0</td>\n",
       "      <td>(0, 500]</td>\n",
       "      <td>(-500, 0]</td>\n",
       "      <td>1</td>\n",
       "      <td>0</td>\n",
       "    </tr>\n",
       "  </tbody>\n",
       "</table>\n",
       "</div>"
      ],
      "text/plain": [
       "   id  pack_price   extra_time  extra_flow  pack_change  contract  \\\n",
       "0   1           1   792.833333  -10.450067            0         0   \n",
       "1   2           1   121.666667  -21.141117            0         0   \n",
       "2   3           1   -30.000000  -25.655273            0         0   \n",
       "3   4           1   241.500000 -288.341254            0         1   \n",
       "4   5           1  1629.666667  -23.655505            0         0   \n",
       "5   6           1   182.000000 -115.863584            0         1   \n",
       "6   7           1   196.333333  221.294207            0         1   \n",
       "7   8           1   539.500000   81.160600            0         1   \n",
       "8   9           1  1037.166667    8.344393            0         1   \n",
       "9  10           2   289.000000 -131.784518            0         0   \n",
       "\n",
       "   link_purchase  group_user  use_month  loss   time_label flow_label  \\\n",
       "0              0           0         25     0  (500, 2000]  (-500, 0]   \n",
       "1              0           0         25     0     (0, 500]  (-500, 0]   \n",
       "2              0           0          2     1    (-500, 0]  (-500, 0]   \n",
       "3              0           1         25     0     (0, 500]  (-500, 0]   \n",
       "4              0           1         25     0  (500, 2000]  (-500, 0]   \n",
       "5              0           1         25     0     (0, 500]  (-500, 0]   \n",
       "6              0           1         23     0     (0, 500]   (0, 500]   \n",
       "7              0           0         25     0  (500, 2000]   (0, 500]   \n",
       "8              0           1         25     0  (500, 2000]   (0, 500]   \n",
       "9              0           1         25     0     (0, 500]  (-500, 0]   \n",
       "\n",
       "   time_tranf  flow_tranf  \n",
       "0           1           0  \n",
       "1           1           0  \n",
       "2           0           0  \n",
       "3           1           0  \n",
       "4           1           0  \n",
       "5           1           0  \n",
       "6           1           1  \n",
       "7           1           1  \n",
       "8           1           1  \n",
       "9           1           0  "
      ]
     },
     "execution_count": 15,
     "metadata": {},
     "output_type": "execute_result"
    }
   ],
   "source": [
    "# 将没有超出套餐的通话时间和流量记为0，超出的记为1\n",
    "df['time_tranf'] = df.apply(lambda x:1 if x.extra_time>0 else 0,axis =1)\n",
    "df['flow_tranf'] = df.apply(lambda x:1 if x.extra_flow>0 else 0,axis =1)\n",
    "\n",
    "df.head(10)"
   ]
  },
  {
   "cell_type": "code",
   "execution_count": 28,
   "metadata": {},
   "outputs": [
    {
     "data": {
      "text/plain": [
       "array([[1, 1, 0, ..., 0, 0, 0],\n",
       "       [1, 1, 0, ..., 0, 0, 0],\n",
       "       [1, 0, 0, ..., 0, 0, 0],\n",
       "       ...,\n",
       "       [1, 1, 1, ..., 1, 0, 0],\n",
       "       [1, 1, 1, ..., 1, 0, 0],\n",
       "       [3, 0, 0, ..., 1, 0, 1]], dtype=int64)"
      ]
     },
     "execution_count": 28,
     "metadata": {},
     "output_type": "execute_result"
    }
   ],
   "source": [
    "x = df.loc[:,['pack_price','time_tranf','flow_tranf','pack_change','contract','link_purchase','group_user']]\n",
    "x = np.array(x)\n",
    "\n",
    "x"
   ]
  },
  {
   "cell_type": "code",
   "execution_count": 17,
   "metadata": {},
   "outputs": [
    {
     "data": {
      "text/plain": [
       "array([[0],\n",
       "       [0],\n",
       "       [1],\n",
       "       ...,\n",
       "       [0],\n",
       "       [1],\n",
       "       [0]], dtype=int64)"
      ]
     },
     "execution_count": 17,
     "metadata": {},
     "output_type": "execute_result"
    }
   ],
   "source": [
    "y = df.loss\n",
    "y = y[:, np.newaxis]\n",
    "y"
   ]
  },
  {
   "cell_type": "code",
   "execution_count": 18,
   "metadata": {},
   "outputs": [],
   "source": [
    "from sklearn.model_selection import train_test_split\n",
    "\n",
    "x_train, x_test, y_train, y_test = train_test_split(x, y, test_size = 0.3,random_state=123)"
   ]
  },
  {
   "cell_type": "code",
   "execution_count": 19,
   "metadata": {},
   "outputs": [],
   "source": [
    "from sklearn import tree\n",
    "clf = tree.DecisionTreeClassifier(criterion='entropy', #--设置衡量系数\n",
    "                                    splitter='best', #--选择分类策略\n",
    "                                    max_depth=3, #--设置树最大深度\n",
    "                                    min_samples_split=10,#--节点最少样本数\n",
    "                                    min_samples_leaf=5 #-- 叶节点最少样本数\n",
    "                                    )\n",
    "\n",
    "clf = clf.fit(x_train,y_train) # 拟合训练"
   ]
  },
  {
   "cell_type": "code",
   "execution_count": 20,
   "metadata": {},
   "outputs": [
    {
     "data": {
      "text/plain": [
       "'train_score:0.8658816771970133,test_score:0.8573342263898192'"
      ]
     },
     "execution_count": 20,
     "metadata": {},
     "output_type": "execute_result"
    }
   ],
   "source": [
    "train_score = clf.score(x_train,y_train) # 训练集评分\n",
    "test_score = clf.score(x_test,y_test)   # 测试集评分\n",
    "\n",
    "'train_score:{0},test_score:{1}'.format(train_score,test_score)"
   ]
  },
  {
   "cell_type": "markdown",
   "metadata": {},
   "source": [
    "### 参数调优"
   ]
  },
  {
   "cell_type": "code",
   "execution_count": 33,
   "metadata": {},
   "outputs": [
    {
     "data": {
      "text/plain": [
       "[(0.8411832280298679, 0.8392498325519089),\n",
       " (0.8658816771970133, 0.8573342263898192),\n",
       " (0.871338311315336, 0.8640321500334897),\n",
       " (0.8767949454336588, 0.8613529805760214),\n",
       " (0.8796668581275129, 0.8606831882116543),\n",
       " (0.8808156232050546, 0.8626925653047556),\n",
       " (0.8813900057438254, 0.8633623576691226),\n",
       " (0.8813900057438254, 0.8633623576691226),\n",
       " (0.8813900057438254, 0.8633623576691226),\n",
       " (0.8813900057438254, 0.8633623576691226),\n",
       " (0.8813900057438254, 0.8633623576691226),\n",
       " (0.8813900057438254, 0.8633623576691226),\n",
       " (0.8813900057438254, 0.8633623576691226)]"
      ]
     },
     "execution_count": 33,
     "metadata": {},
     "output_type": "execute_result"
    }
   ],
   "source": [
    "# 模型参数调优 max_depth，不同深度训练模型，计算评分\n",
    "def cv_score(d):\n",
    "    clf2 = tree.DecisionTreeClassifier(max_depth=d)\n",
    "    clf2 = clf2.fit(x_train,y_train)\n",
    "    tr_score = clf2.score(x_train,y_train)\n",
    "    cv_score = clf2.score(x_test,y_test)\n",
    "    return (tr_score, cv_score)\n",
    "\n",
    "\n",
    "depths = range(2,15)\n",
    "scores = [cv_score(d) for d in depths]\n",
    "tr_scores = [s[0] for s in scores]\n",
    "cv_scores = [s[1] for s in scores]\n",
    "scores"
   ]
  },
  {
   "cell_type": "code",
   "execution_count": 35,
   "metadata": {},
   "outputs": [
    {
     "name": "stdout",
     "output_type": "stream",
     "text": [
      "max_depth 4\n"
     ]
    }
   ],
   "source": [
    "# 交叉验证数据集最高评分的那个索引\n",
    "best_score_index = np.argmax(cv_scores)\n",
    "best_score = cv_scores[best_score_index]\n",
    "best_param = depths[best_score_index]\n",
    "print('max_depth',best_param)"
   ]
  },
  {
   "cell_type": "code",
   "execution_count": 36,
   "metadata": {},
   "outputs": [
    {
     "data": {
      "image/png": "[encoded data removed]",
      "text/plain": [
       "<Figure size 600x300 with 1 Axes>"
      ]
     },
     "metadata": {
      "needs_background": "light"
     },
     "output_type": "display_data"
    }
   ],
   "source": [
    "plt.figure(figsize = (4,2),dpi=150)\n",
    "plt.grid()\n",
    "plt.xlabel('max_depth')\n",
    "plt.ylabel('best_score')\n",
    "plt.plot(depths, cv_scores,'.g-',label = 'cross_validation scores')\n",
    "plt.plot(depths,tr_scores,'.r--',label = 'train scores')\n",
    "plt.legend()\n",
    "plt.show()"
   ]
  },
  {
   "cell_type": "markdown",
   "metadata": {},
   "source": [
    "深度为4时，交叉验证数据集的评分与训练集的评分比较接近，且评分比较高<br>\n",
    "深度超过5以后，差距变大，交叉验证数据集的评分变低，出现过拟合情况。"
   ]
  },
  {
   "cell_type": "markdown",
   "metadata": {},
   "source": [
    "### 模型结果评价"
   ]
  },
  {
   "cell_type": "code",
   "execution_count": 24,
   "metadata": {},
   "outputs": [],
   "source": [
    "from sklearn.metrics import classification_report"
   ]
  },
  {
   "cell_type": "code",
   "execution_count": 25,
   "metadata": {},
   "outputs": [
    {
     "name": "stdout",
     "output_type": "stream",
     "text": [
      "              precision    recall  f1-score   support\n",
      "\n",
      "           0       0.70      0.67      0.68       346\n",
      "           1       0.90      0.91      0.91      1147\n",
      "\n",
      "    accuracy                           0.86      1493\n",
      "   macro avg       0.80      0.79      0.80      1493\n",
      "weighted avg       0.86      0.86      0.86      1493\n",
      "\n"
     ]
    }
   ],
   "source": [
    "y_pre = clf.predict(x_test)\n",
    "print(classification_report(y_pre,y_test))"
   ]
  },
  {
   "cell_type": "markdown",
   "metadata": {},
   "source": [
    "精确率 = TP/(TP+FP)  ：在预测为流失的用户中，预测正确的（实际也是流失）用户占比<br>\n",
    "召回率 = TP/(TP+FN)   : 在实际为流失的用户中，预测正确的（预测为流失的）用户占比<br>\n",
    "F1值为精确率和召回率的调和均值，相当于这两个的综合评价指标。<br>\n",
    "\n",
    "通过输出的分析报告可以得出建立的预测模型的精确率为0.88，说明在预测为流失的用户中，实际流失的用户占88%，<br>\n",
    "召回率为0.86，说明实际为流失的用户中，预测为流失的占86%，<br>\n",
    "F1值为0.87，说明模型的综合评价还不错。<br>"
   ]
  },
  {
   "cell_type": "code",
   "execution_count": 26,
   "metadata": {},
   "outputs": [],
   "source": [
    "import os\n",
    "os.environ[\"PATH\"] += os.pathsep + 'D:/Program Files My/Graphviz/bin'\n",
    "\n",
    "from IPython.display import Image  \n",
    "from sklearn import tree\n",
    "import pydotplus \n",
    "from sklearn.tree import export_graphviz\n",
    "\n",
    "def TreeShow(dtClass,irisDataSet):\n",
    "    dot_data = export_graphviz(dtClass, out_file=None)\n",
    "    graph = pydotplus.graph_from_dot_data(dot_data)\n",
    "    graph.write_pdf(\"tree.pdf\")\n",
    "    dot_data = export_graphviz(dtClass, out_file=None,\n",
    "                               feature_names=['pack_type','time_tranf','flow_tranf'\n",
    "                               ,'pack_change','contract','asso_pur','group_user'],   #对应特征的名字\n",
    "                              class_names=['loss','not loss'],    #对应类别的名字\n",
    "                               filled=True, rounded=True,\n",
    "                               special_characters=True)\n",
    "    graph = pydotplus.graph_from_dot_data(dot_data)\n",
    "    Image(graph.create_png())\n",
    "    \n",
    "TreeShow(clf,df)"
   ]
  },
  {
   "cell_type": "code",
   "execution_count": null,
   "metadata": {},
   "outputs": [],
   "source": []
  }
 ],
 "metadata": {
  "kernelspec": {
   "display_name": "Python 3",
   "language": "python",
   "name": "python3"
  },
  "language_info": {
   "codemirror_mode": {
    "name": "ipython",
    "version": 3
   },
   "file_extension": ".py",
   "mimetype": "text/x-python",
   "name": "python",
   "nbconvert_exporter": "python",
   "pygments_lexer": "ipython3",
   "version": "3.6.5"
  }
 },
 "nbformat": 4,
 "nbformat_minor": 2
}
